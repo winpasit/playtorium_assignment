{
  "nbformat": 4,
  "nbformat_minor": 0,
  "metadata": {
    "colab": {
      "provenance": [],
      "authorship_tag": "ABX9TyNT8QiDg7Y/A6yoxgD4H0io",
      "include_colab_link": true
    },
    "kernelspec": {
      "name": "python3",
      "display_name": "Python 3"
    },
    "language_info": {
      "name": "python"
    }
  },
  "cells": [
    {
      "cell_type": "markdown",
      "metadata": {
        "id": "view-in-github",
        "colab_type": "text"
      },
      "source": [
        "<a href=\"https://colab.research.google.com/github/winpasit/playtorium_assignment/blob/main/take_home_assignment.ipynb\" target=\"_parent\"><img src=\"https://colab.research.google.com/assets/colab-badge.svg\" alt=\"Open In Colab\"/></a>"
      ]
    },
    {
      "cell_type": "markdown",
      "source": [
        "Mr. Pasit Laohawarutchai - Take Home Assignment"
      ],
      "metadata": {
        "id": "BGs5io8sKqKF"
      }
    },
    {
      "cell_type": "code",
      "source": [
        "import json\n",
        "\n",
        "\"\"\"\n",
        "  <func> write_json: write JSON using given data (for mocking)\n",
        "  <func> read_json: read JSON\n",
        "\"\"\"\n",
        "def write_json(data, filename):\n",
        "  with open(f'{filename}.json', 'w') as f:\n",
        "    json.dump(data, f)\n",
        "    print(f'created {filename}.json')\n",
        "\n",
        "def read_json(filename):\n",
        "  with open(f'{filename}.json') as f:\n",
        "    data = json.load(f)\n",
        "    print(f'loaded {filename}.json')\n",
        "    return data\n",
        "  print('file not found')\n",
        "  return {}\n",
        "\n",
        "#  items JSON (mocking) -> to test please comment or uncomment those parts of data\n",
        "data_items = {\n",
        "    'items': [\n",
        "        {\n",
        "            'name': 't-shirt',\n",
        "            'category': 'clothing',\n",
        "            'price': 350\n",
        "        },\n",
        "        {\n",
        "            'name': 'hoodie',\n",
        "            'category': 'clothing',\n",
        "            'price': 700\n",
        "        },\n",
        "        {\n",
        "            'name': 'hat',\n",
        "            'category': 'accessories',\n",
        "            'price': 250\n",
        "        },\n",
        "        {\n",
        "            'name': 'watch',\n",
        "            'category': 'accessories',\n",
        "            'price': 850\n",
        "        },\n",
        "        {\n",
        "            'name': 'belt',\n",
        "            'category': 'accessories',\n",
        "            'price': 230\n",
        "        },\n",
        "        {\n",
        "            'name': 'bag',\n",
        "            'category': 'accessories',\n",
        "            'price': 640\n",
        "        },\n",
        "        {\n",
        "            'name': 'lamp',\n",
        "            'category': 'electronics',\n",
        "            'price': 900\n",
        "        },\n",
        "    ]\n",
        "}\n",
        "\n",
        "write_json(data_items, 'items')\n",
        "items = read_json('items')"
      ],
      "metadata": {
        "colab": {
          "base_uri": "https://localhost:8080/"
        },
        "id": "6tTNCDgtobQj",
        "outputId": "c07d99c2-eab0-43cc-ef7f-54f220748254"
      },
      "execution_count": null,
      "outputs": [
        {
          "output_type": "stream",
          "name": "stdout",
          "text": [
            "created items.json\n",
            "loaded items.json\n"
          ]
        }
      ]
    },
    {
      "cell_type": "code",
      "source": [
        "\"\"\"\n",
        "  add_cart: take the list items into a shopping cart\n",
        "  input:\n",
        "    - filename<str>: JSON filename of the items list\n",
        "  output:\n",
        "    - cart<list>: list contains items<dict>, [] if there is no file.\n",
        "\"\"\"\n",
        "\n",
        "def add_cart(filename):\n",
        "  data = read_json(filename)\n",
        "  if not data: return [] # empty\n",
        "  return data['items']\n",
        "\n",
        "cart = add_cart('items')\n",
        "print(cart)"
      ],
      "metadata": {
        "colab": {
          "base_uri": "https://localhost:8080/"
        },
        "id": "38X2pgr0pibp",
        "outputId": "fbee579a-c341-43b7-8bd6-a371f466e230"
      },
      "execution_count": null,
      "outputs": [
        {
          "output_type": "stream",
          "name": "stdout",
          "text": [
            "loaded items.json\n",
            "[{'name': 't-shirt', 'category': 'clothing', 'price': 350}, {'name': 'hoodie', 'category': 'clothing', 'price': 700}, {'name': 'hat', 'category': 'accessories', 'price': 250}, {'name': 'watch', 'category': 'accessories', 'price': 850}, {'name': 'belt', 'category': 'accessories', 'price': 230}, {'name': 'bag', 'category': 'accessories', 'price': 640}, {'name': 'lamp', 'category': 'electronics', 'price': 900}]\n"
          ]
        }
      ]
    },
    {
      "cell_type": "code",
      "source": [
        "# campaigns JSON (mocking) -> to test please comment or uncomment those parts of data\n",
        "data_campaigns = {\n",
        "    'campaigns': [\n",
        "        # coupon / fixed_amout\n",
        "        {\n",
        "            'campaign': 'fixed_amount',\n",
        "            'category': 'coupon',\n",
        "            'parameter': {\n",
        "                'amount': 50,\n",
        "            }\n",
        "        },\n",
        "        # coupon / percentage_discount\n",
        "        # {\n",
        "        #     'campaign': 'percentage_discount',\n",
        "        #     'category': 'coupon',\n",
        "        #     'parameter': {\n",
        "        #         'percentage': 10,\n",
        "        #     }\n",
        "        # },\n",
        "        # on_top / percantage_discount_by_item_category\n",
        "        {\n",
        "            'campaign': 'percantage_discount_by_item_category',\n",
        "            'category': 'on_top',\n",
        "            'parameter': {\n",
        "                'category': 'clothing',\n",
        "                'amount': 15,\n",
        "            }\n",
        "        },\n",
        "        # on_top / discount_by_points\n",
        "        # {\n",
        "        #     'campaign': 'discount_by_points',\n",
        "        #     'category': 'on_top',\n",
        "        #     'parameter': {\n",
        "        #         'customer_points': 200,\n",
        "        #     }\n",
        "        # },\n",
        "        # seasonal / special_campaigns\n",
        "        {\n",
        "            'campaign': 'special_campaigns',\n",
        "            'category': 'seasonal',\n",
        "            'parameter': {\n",
        "                'every_x': 300,\n",
        "                'discount_y': 40,\n",
        "            }\n",
        "        },\n",
        "    ]\n",
        "}\n",
        "\n",
        "write_json(data_campaigns, 'campaigns')\n",
        "campaigns = read_json('campaigns')\n",
        "campaigns"
      ],
      "metadata": {
        "colab": {
          "base_uri": "https://localhost:8080/"
        },
        "id": "w5c-N7KGv0DR",
        "outputId": "56c9d8bc-92af-4eee-fe31-b7c34700cfdc"
      },
      "execution_count": null,
      "outputs": [
        {
          "output_type": "stream",
          "name": "stdout",
          "text": [
            "created campaigns.json\n",
            "loaded campaigns.json\n"
          ]
        },
        {
          "output_type": "execute_result",
          "data": {
            "text/plain": [
              "{'campaigns': [{'campaign': 'fixed_amount',\n",
              "   'category': 'coupon',\n",
              "   'parameter': {'amount': 50}},\n",
              "  {'campaign': 'percantage_discount_by_item_category',\n",
              "   'category': 'on_top',\n",
              "   'parameter': {'category': 'clothing', 'amount': 15}},\n",
              "  {'campaign': 'special_campaigns',\n",
              "   'category': 'seasonal',\n",
              "   'parameter': {'every_x': 300, 'discount_y': 40}}]}"
            ]
          },
          "metadata": {},
          "execution_count": 95
        }
      ]
    },
    {
      "cell_type": "code",
      "source": [
        "\"\"\"\n",
        "  add_campaigns: take the list of campaigns and discounts\n",
        "  input:\n",
        "    - filename<str>: JSON filename\n",
        "  output:\n",
        "    - applied_campaigns<dict>: dict of lists categorized by category\n",
        "\"\"\"\n",
        "\n",
        "def add_campaigns(filename):\n",
        "  data = read_json(filename)\n",
        "  if not data: return [] # empty\n",
        "  campaigns = {'coupon': None, 'on_top': None, 'seasonal': None}\n",
        "  for campaign in data['campaigns']:\n",
        "    if campaigns[campaign['category']] is None:\n",
        "      campaigns[campaign['category']] = campaign\n",
        "    else:\n",
        "      print('invalid campaigns')\n",
        "      return {'coupon': None, 'on_top': None, 'seasonal': None}\n",
        "  return campaigns\n",
        "\n",
        "applied_campaigns = add_campaigns('campaigns')\n",
        "applied_campaigns"
      ],
      "metadata": {
        "colab": {
          "base_uri": "https://localhost:8080/"
        },
        "id": "rtwlOMenz4pA",
        "outputId": "5b365583-de3c-4b8d-b753-d22c01baa52a"
      },
      "execution_count": null,
      "outputs": [
        {
          "output_type": "stream",
          "name": "stdout",
          "text": [
            "loaded campaigns.json\n"
          ]
        },
        {
          "output_type": "execute_result",
          "data": {
            "text/plain": [
              "{'coupon': {'campaign': 'fixed_amount',\n",
              "  'category': 'coupon',\n",
              "  'parameter': {'amount': 50}},\n",
              " 'on_top': {'campaign': 'percantage_discount_by_item_category',\n",
              "  'category': 'on_top',\n",
              "  'parameter': {'category': 'clothing', 'amount': 15}},\n",
              " 'seasonal': {'campaign': 'special_campaigns',\n",
              "  'category': 'seasonal',\n",
              "  'parameter': {'every_x': 300, 'discount_y': 40}}}"
            ]
          },
          "metadata": {},
          "execution_count": 96
        }
      ]
    },
    {
      "cell_type": "code",
      "source": [
        "\"\"\"\n",
        "  cal_coupon: caculate both 'fixed_amount' or 'percentage_discount' on 'coupon'\n",
        "  input:\n",
        "    - campaign<dict>: obj of campaign\n",
        "    - total<float>: total before discount\n",
        "    - opt<int> : 0 or 1 for print additional details (default=0)\n",
        "  output:\n",
        "    - new_total<float>: new total after discount\n",
        "\"\"\"\n",
        "def cal_coupon(campaign, total, opt=0):\n",
        "  new_total = total\n",
        "  discount = 0\n",
        "  campaign_type = campaign['campaign']\n",
        "\n",
        "  # fixed_amount\n",
        "  if campaign_type == 'fixed_amount':\n",
        "    discount = campaign['parameter']['amount']\n",
        "\n",
        "  # percentage_discount\n",
        "  if campaign_type == 'percentage_discount':\n",
        "    discount = campaign['parameter']['percentage'] / 100 * total\n",
        "\n",
        "  new_total -= discount\n",
        "  if opt:\n",
        "    if discount > 0: print(f'{campaign_type}: from:{total} / discount:{discount} / to:{new_total}')\n",
        "  return new_total\n",
        "\n",
        "\"\"\"\n",
        "  cal_on_top: caculate both 'percantage_discount_by_item_category'\n",
        "               or 'discount_by_points' on 'on_top'\n",
        "  input:\n",
        "    - campaign<dict>: obj of campaign\n",
        "    - cart<list>: list contains items<dict>\n",
        "    - total<float>: total before discount\n",
        "    - opt<int> : 0 or 1 for print additional details (default=0)\n",
        "  output:\n",
        "    - new_total<float>: new total after discount\n",
        "\"\"\"\n",
        "def cal_on_top(campaign, cart, total, opt=0):\n",
        "  new_total = total\n",
        "  discount = 0\n",
        "  campaign_type = campaign['campaign']\n",
        "\n",
        "  # percantage_discount_by_item_category\n",
        "  if campaign_type == 'percantage_discount_by_item_category':\n",
        "    target_cat = campaign['parameter']['category']\n",
        "    cat_amount = campaign['parameter']['amount']\n",
        "    total_cat = sum([item['price'] for item in cart if item['category'] == target_cat])\n",
        "    discount = cat_amount / 100 * total_cat\n",
        "    if opt: campaign_type = 'percantage_discount_by_item_category'\n",
        "\n",
        "  # discount_by_points\n",
        "  if campaign_type == 'discount_by_points':\n",
        "    points = campaign['parameter']['customer_points']\n",
        "    discount = min(0.2 * total, points) # capped at 20% of total price (after coupon due to the order)\n",
        "    if opt: campaign_type = 'discount_by_points'\n",
        "\n",
        "  new_total -= discount\n",
        "  if opt:\n",
        "    if discount > 0: print(f'{campaign_type}: from:{total} / discount:{discount} / to:{new_total}')\n",
        "  return new_total\n",
        "\n",
        "\"\"\"\n",
        "  cal_seasonal: caculate 'special_campaigns' on 'seasonal'\n",
        "  input:\n",
        "    - campaign<dict>: obj of campaign\n",
        "    - total<float>: total before discount\n",
        "    - opt<int> : 0 or 1 for print additional details (default=0)\n",
        "  output:\n",
        "    - new_total<float>: new total after discount\n",
        "\"\"\"\n",
        "def cal_seasonal(campaign, total, opt=0):\n",
        "  new_total = total\n",
        "  discount = 0\n",
        "  campaign_type = campaign['campaign']\n",
        "\n",
        "  # special_campaigns\n",
        "  if campaign_type == 'special_campaigns':\n",
        "    every_x = campaign['parameter']['every_x']\n",
        "    discount_y = campaign['parameter']['discount_y']\n",
        "    discount = total//every_x * discount_y\n",
        "\n",
        "  new_total -= discount\n",
        "  if opt:\n",
        "    if discount > 0: print(f'{campaign_type}: from:{total} / discount:{discount} / to:{new_total}')\n",
        "  return new_total\n",
        "\n",
        "\"\"\"\n",
        "  checkout: caculate all campaigns by order (coupon > on_top > seasonal)\n",
        "  input:\n",
        "    - campaigns<dict>: dict of lists categorized by category\n",
        "    - cart<list>: list contains items<dict>\n",
        "    - opt<int> : 0 or 1 for print additional details (default=0)\n",
        "  output:\n",
        "    - new_total<float>: new total after discount\n",
        "\"\"\"\n",
        "def checkout(campaigns, cart, opt=0):\n",
        "  total = sum([item['price'] for item in cart])\n",
        "  new_total = total\n",
        "\n",
        "  if campaigns['coupon'] is not None: new_total = cal_coupon(campaigns['coupon'], new_total, opt)\n",
        "  if campaigns['on_top'] is not None: new_total = cal_on_top(campaigns['on_top'], cart, new_total, opt)\n",
        "  if campaigns['seasonal'] is not None: new_total = cal_seasonal(campaigns['seasonal'], new_total, opt)\n",
        "\n",
        "  if opt:\n",
        "    if total != new_total:\n",
        "      print('-'*60)\n",
        "      print(f'Summary: total:{total} / discount:{total-new_total} /  final_total:{new_total}')\n",
        "  return new_total\n",
        "\n",
        "# execute\n",
        "final_total = checkout(campaigns=applied_campaigns, cart=cart, opt=1)"
      ],
      "metadata": {
        "colab": {
          "base_uri": "https://localhost:8080/"
        },
        "id": "F_okA-vt1vEe",
        "outputId": "5b839198-724d-4d05-b101-277304fd8e25"
      },
      "execution_count": null,
      "outputs": [
        {
          "output_type": "stream",
          "name": "stdout",
          "text": [
            "fixed_amount: from:3920 / discount:50 / to:3870\n",
            "percantage_discount_by_item_category: from:3870 / discount:157.5 / to:3712.5\n",
            "special_campaigns: from:3712.5 / discount:480.0 / to:3232.5\n",
            "------------------------------------------------------------\n",
            "Summary: total:3920 / discount:687.5 /  final_total:3232.5\n"
          ]
        }
      ]
    },
    {
      "cell_type": "code",
      "source": [],
      "metadata": {
        "id": "Ezzn4tFDIdaR"
      },
      "execution_count": null,
      "outputs": []
    }
  ]
}